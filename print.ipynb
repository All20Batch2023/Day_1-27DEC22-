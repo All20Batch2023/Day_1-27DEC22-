{
 "cells": [
  {
   "cell_type": "markdown",
   "id": "298c87be",
   "metadata": {},
   "source": [
    "<div class=\"alert alert-info\"><font color=#FF0000>Python  (All 20 Batch 23)</font>\n",
    "<br> <font color=#FF0000>Date - 27th Dec</font>\n",
    "<br> <font color=#FF0000>1st Day !!</font>\n",
    "</div>"
   ]
  },
  {
   "cell_type": "markdown",
   "id": "0a0896d0",
   "metadata": {},
   "source": [
    "<mark>**Topics :-**</mark>\n",
    "1. print fn"
   ]
  },
  {
   "cell_type": "markdown",
   "id": "c89b2e47",
   "metadata": {},
   "source": [
    "**print is a built in function used to prints the specified message to the screen, or other standard output device.**"
   ]
  },
  {
   "cell_type": "code",
   "execution_count": 1,
   "id": "e26404e9",
   "metadata": {},
   "outputs": [
    {
     "data": {
      "text/plain": [
       "<function print>"
      ]
     },
     "execution_count": 1,
     "metadata": {},
     "output_type": "execute_result"
    }
   ],
   "source": [
    "#built in function.\n",
    "print"
   ]
  },
  {
   "cell_type": "code",
   "execution_count": 2,
   "id": "1ac75ecc",
   "metadata": {},
   "outputs": [
    {
     "ename": "NameError",
     "evalue": "name 'Print' is not defined",
     "output_type": "error",
     "traceback": [
      "\u001b[0;31m---------------------------------------------------------------------------\u001b[0m",
      "\u001b[0;31mNameError\u001b[0m                                 Traceback (most recent call last)",
      "Input \u001b[0;32mIn [2]\u001b[0m, in \u001b[0;36m<cell line: 2>\u001b[0;34m()\u001b[0m\n\u001b[1;32m      1\u001b[0m \u001b[38;5;66;03m#Python is a case sensitive.\u001b[39;00m\n\u001b[0;32m----> 2\u001b[0m \u001b[43mPrint\u001b[49m\n",
      "\u001b[0;31mNameError\u001b[0m: name 'Print' is not defined"
     ]
    }
   ],
   "source": [
    "#Python is a case sensitive.\n",
    "Print # print must be in lower case. "
   ]
  },
  {
   "cell_type": "code",
   "execution_count": 3,
   "id": "0f829fdf",
   "metadata": {},
   "outputs": [
    {
     "name": "stdout",
     "output_type": "stream",
     "text": [
      "\n"
     ]
    }
   ],
   "source": [
    "print()"
   ]
  },
  {
   "cell_type": "code",
   "execution_count": 4,
   "id": "9e8f8723",
   "metadata": {},
   "outputs": [
    {
     "name": "stdout",
     "output_type": "stream",
     "text": [
      "7\n"
     ]
    }
   ],
   "source": [
    "print(7)"
   ]
  },
  {
   "cell_type": "code",
   "execution_count": 5,
   "id": "96e159c3",
   "metadata": {},
   "outputs": [
    {
     "name": "stdout",
     "output_type": "stream",
     "text": [
      "0\n"
     ]
    }
   ],
   "source": [
    "print(0)"
   ]
  },
  {
   "cell_type": "code",
   "execution_count": 6,
   "id": "ee67602d",
   "metadata": {},
   "outputs": [
    {
     "ename": "NameError",
     "evalue": "name 'j' is not defined",
     "output_type": "error",
     "traceback": [
      "\u001b[0;31m---------------------------------------------------------------------------\u001b[0m",
      "\u001b[0;31mNameError\u001b[0m                                 Traceback (most recent call last)",
      "Input \u001b[0;32mIn [6]\u001b[0m, in \u001b[0;36m<cell line: 1>\u001b[0;34m()\u001b[0m\n\u001b[0;32m----> 1\u001b[0m \u001b[38;5;28mprint\u001b[39m(\u001b[43mj\u001b[49m)\n",
      "\u001b[0;31mNameError\u001b[0m: name 'j' is not defined"
     ]
    }
   ],
   "source": [
    "print(j)"
   ]
  },
  {
   "cell_type": "code",
   "execution_count": 7,
   "id": "845b95cc",
   "metadata": {},
   "outputs": [
    {
     "name": "stdout",
     "output_type": "stream",
     "text": [
      "j\n",
      "j\n"
     ]
    }
   ],
   "source": [
    "#We have to put text in \"\",'' to print it.\n",
    "print('j')\n",
    "print(\"j\")"
   ]
  },
  {
   "cell_type": "code",
   "execution_count": 8,
   "id": "ef88af62",
   "metadata": {},
   "outputs": [
    {
     "name": "stdout",
     "output_type": "stream",
     "text": [
      "hello\n"
     ]
    }
   ],
   "source": [
    "print('hello')"
   ]
  },
  {
   "cell_type": "code",
   "execution_count": 9,
   "id": "7cd0253d",
   "metadata": {},
   "outputs": [
    {
     "name": "stdout",
     "output_type": "stream",
     "text": [
      "Hello\n"
     ]
    }
   ],
   "source": [
    "print(\"Hello\")"
   ]
  },
  {
   "cell_type": "code",
   "execution_count": 10,
   "id": "c82d91c1",
   "metadata": {},
   "outputs": [
    {
     "name": "stdout",
     "output_type": "stream",
     "text": [
      "true\n"
     ]
    }
   ],
   "source": [
    "print(\"true\")"
   ]
  },
  {
   "cell_type": "code",
   "execution_count": 11,
   "id": "398ad530",
   "metadata": {},
   "outputs": [
    {
     "name": "stdout",
     "output_type": "stream",
     "text": [
      "True\n"
     ]
    }
   ],
   "source": [
    "#Here True is not a simple text, it is a booleen data.\n",
    "print(True)"
   ]
  },
  {
   "cell_type": "code",
   "execution_count": 12,
   "id": "8e49d355",
   "metadata": {},
   "outputs": [
    {
     "ename": "SyntaxError",
     "evalue": "invalid syntax (3773380521.py, line 1)",
     "output_type": "error",
     "traceback": [
      "\u001b[0;36m  Input \u001b[0;32mIn [12]\u001b[0;36m\u001b[0m\n\u001b[0;31m    print(5i)\u001b[0m\n\u001b[0m           ^\u001b[0m\n\u001b[0;31mSyntaxError\u001b[0m\u001b[0;31m:\u001b[0m invalid syntax\n"
     ]
    }
   ],
   "source": [
    "print(5i)"
   ]
  },
  {
   "cell_type": "code",
   "execution_count": 13,
   "id": "040ab25a",
   "metadata": {},
   "outputs": [
    {
     "name": "stdout",
     "output_type": "stream",
     "text": [
      "5i\n"
     ]
    }
   ],
   "source": [
    "print('5i')"
   ]
  },
  {
   "cell_type": "code",
   "execution_count": 14,
   "id": "de64a919",
   "metadata": {},
   "outputs": [
    {
     "name": "stdout",
     "output_type": "stream",
     "text": [
      "4j\n"
     ]
    }
   ],
   "source": [
    "#Here 4j is not a simple text, it is a complex data.\n",
    "print(4j)"
   ]
  },
  {
   "cell_type": "code",
   "execution_count": 15,
   "id": "9b47a333",
   "metadata": {},
   "outputs": [
    {
     "name": "stdout",
     "output_type": "stream",
     "text": [
      "hello 0 True 4j\n"
     ]
    }
   ],
   "source": [
    "print('hello',0,True,4j)"
   ]
  },
  {
   "cell_type": "code",
   "execution_count": 16,
   "id": "3c51475a",
   "metadata": {},
   "outputs": [
    {
     "ename": "SyntaxError",
     "evalue": "invalid syntax (4204881362.py, line 2)",
     "output_type": "error",
     "traceback": [
      "\u001b[0;36m  Input \u001b[0;32mIn [16]\u001b[0;36m\u001b[0m\n\u001b[0;31m    print(@)\u001b[0m\n\u001b[0m          ^\u001b[0m\n\u001b[0;31mSyntaxError\u001b[0m\u001b[0;31m:\u001b[0m invalid syntax\n"
     ]
    }
   ],
   "source": [
    "#Symbols are also treated as text.\n",
    "print(@)"
   ]
  },
  {
   "cell_type": "code",
   "execution_count": 17,
   "id": "d8563380",
   "metadata": {},
   "outputs": [
    {
     "name": "stdout",
     "output_type": "stream",
     "text": [
      "@\n"
     ]
    }
   ],
   "source": [
    "print('@')"
   ]
  },
  {
   "cell_type": "code",
   "execution_count": 18,
   "id": "bdf4eeb2",
   "metadata": {},
   "outputs": [
    {
     "name": "stdout",
     "output_type": "stream",
     "text": [
      "5\n"
     ]
    }
   ],
   "source": [
    "#Also perform some basic operation like\n",
    "print(3+2)"
   ]
  },
  {
   "cell_type": "code",
   "execution_count": 19,
   "id": "4a5f684b",
   "metadata": {},
   "outputs": [
    {
     "name": "stdout",
     "output_type": "stream",
     "text": [
      "hihihihihihihihihi\n"
     ]
    }
   ],
   "source": [
    "print(\"hi\"*9)"
   ]
  },
  {
   "cell_type": "code",
   "execution_count": 20,
   "id": "fee3d16d",
   "metadata": {},
   "outputs": [
    {
     "name": "stdout",
     "output_type": "stream",
     "text": [
      "sanjeet kumar\n"
     ]
    }
   ],
   "source": [
    "#By defult there is a space between 't' & 'k' \n",
    "print('sanjeet','kumar')"
   ]
  },
  {
   "cell_type": "markdown",
   "id": "ec2d4645",
   "metadata": {},
   "source": [
    "**Syntax :**<br>\n",
    "   ```print(object(s), sep=separator, end=end, file=file, flush=flush)```"
   ]
  },
  {
   "cell_type": "markdown",
   "id": "4e136a3c",
   "metadata": {},
   "source": [
    "| Parameter | Defult Value | Description |\n",
    "|---------|:-------------|:--------------:|\n",
    "| Object | - | Any Object |\n",
    "| sep | ' ' | separate the objects |\n",
    "| end | '\\n' | what to print at the end |\n",
    "| file |  sys.stdout | write Method |\n",
    "| flush | False | flushed (True) or buffered (False) |"
   ]
  },
  {
   "cell_type": "code",
   "execution_count": 21,
   "id": "28b698a4",
   "metadata": {},
   "outputs": [
    {
     "name": "stdout",
     "output_type": "stream",
     "text": [
      "hello world\n",
      "hello_world\n"
     ]
    }
   ],
   "source": [
    "#sep parameter\n",
    "print('hello','world')\n",
    "print('hello','world',sep='_')"
   ]
  },
  {
   "cell_type": "code",
   "execution_count": 22,
   "id": "6335f209",
   "metadata": {},
   "outputs": [
    {
     "name": "stdout",
     "output_type": "stream",
     "text": [
      "Hello\n",
      "World\n",
      "hello@world\n"
     ]
    }
   ],
   "source": [
    "#end parameter\n",
    "print(\"Hello\")\n",
    "print(\"World\")\n",
    "\n",
    "\n",
    "print('hello',end='@')\n",
    "print('world')"
   ]
  },
  {
   "cell_type": "code",
   "execution_count": 23,
   "id": "ee596f76",
   "metadata": {},
   "outputs": [
    {
     "name": "stdout",
     "output_type": "stream",
     "text": [
      "sanjeet*"
     ]
    }
   ],
   "source": [
    "print('sanjeet',end='*')"
   ]
  },
  {
   "cell_type": "markdown",
   "id": "36671d93",
   "metadata": {},
   "source": [
    "!! Thank You !!"
   ]
  },
  {
   "cell_type": "code",
   "execution_count": null,
   "id": "7d86b17f",
   "metadata": {},
   "outputs": [],
   "source": []
  }
 ],
 "metadata": {
  "kernelspec": {
   "display_name": "Python 3 (ipykernel)",
   "language": "python",
   "name": "python3"
  },
  "language_info": {
   "codemirror_mode": {
    "name": "ipython",
    "version": 3
   },
   "file_extension": ".py",
   "mimetype": "text/x-python",
   "name": "python",
   "nbconvert_exporter": "python",
   "pygments_lexer": "ipython3",
   "version": "3.9.12"
  },
  "varInspector": {
   "cols": {
    "lenName": 16,
    "lenType": 16,
    "lenVar": 40
   },
   "kernels_config": {
    "python": {
     "delete_cmd_postfix": "",
     "delete_cmd_prefix": "del ",
     "library": "var_list.py",
     "varRefreshCmd": "print(var_dic_list())"
    },
    "r": {
     "delete_cmd_postfix": ") ",
     "delete_cmd_prefix": "rm(",
     "library": "var_list.r",
     "varRefreshCmd": "cat(var_dic_list()) "
    }
   },
   "types_to_exclude": [
    "module",
    "function",
    "builtin_function_or_method",
    "instance",
    "_Feature"
   ],
   "window_display": false
  }
 },
 "nbformat": 4,
 "nbformat_minor": 5
}
