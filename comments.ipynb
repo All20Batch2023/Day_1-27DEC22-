{
 "cells": [
  {
   "cell_type": "markdown",
   "id": "69968882",
   "metadata": {},
   "source": [
    "<div class=\"alert alert-info\"><font color=#FF0000>Python  (All 20 Batch 23)</font>\n",
    "<br> <font color=#FF0000>Date - 27th Dec</font>\n",
    "<br> <font color=#FF0000>1st Day !!</font>\n",
    "</div>"
   ]
  },
  {
   "cell_type": "markdown",
   "id": "a33ac488",
   "metadata": {},
   "source": [
    "<mark>**Topics :-**</mark>\n",
    "1. Comment in Python<br>\n",
    "2. print fn"
   ]
  },
  {
   "cell_type": "markdown",
   "id": "cb86c2fe",
   "metadata": {},
   "source": [
    "Python created by Guido van Rossum in 1991"
   ]
  },
  {
   "cell_type": "markdown",
   "id": "4e20257b",
   "metadata": {},
   "source": [
    "> **comments** <br>\n",
    ">> used to explain logic behind our Python code. "
   ]
  },
  {
   "cell_type": "code",
   "execution_count": 1,
   "id": "3f5f1930",
   "metadata": {},
   "outputs": [
    {
     "ename": "NameError",
     "evalue": "name 'comment' is not defined",
     "output_type": "error",
     "traceback": [
      "\u001b[0;31m---------------------------------------------------------------------------\u001b[0m",
      "\u001b[0;31mNameError\u001b[0m                                 Traceback (most recent call last)",
      "Input \u001b[0;32mIn [1]\u001b[0m, in \u001b[0;36m<cell line: 1>\u001b[0;34m()\u001b[0m\n\u001b[0;32m----> 1\u001b[0m \u001b[43mcomment\u001b[49m\n",
      "\u001b[0;31mNameError\u001b[0m: name 'comment' is not defined"
     ]
    }
   ],
   "source": [
    "comment"
   ]
  },
  {
   "cell_type": "markdown",
   "id": "d31060e8",
   "metadata": {},
   "source": [
    "**Syntax :**<br>\n",
    "   ```Comments starts with a '#'```"
   ]
  },
  {
   "cell_type": "code",
   "execution_count": 2,
   "id": "c0407c53",
   "metadata": {},
   "outputs": [],
   "source": [
    "#comment"
   ]
  },
  {
   "cell_type": "markdown",
   "id": "553ed99a",
   "metadata": {},
   "source": [
    "**Its can be placed above the code line.**"
   ]
  },
  {
   "cell_type": "code",
   "execution_count": 3,
   "id": "9de537f8",
   "metadata": {},
   "outputs": [
    {
     "name": "stdout",
     "output_type": "stream",
     "text": [
      "Hello World\n"
     ]
    }
   ],
   "source": [
    "#Here we print Hello world\n",
    "print('Hello World')"
   ]
  },
  {
   "cell_type": "markdown",
   "id": "15378c2b",
   "metadata": {},
   "source": [
    "**It can also be placed at the end of a line.**"
   ]
  },
  {
   "cell_type": "code",
   "execution_count": 4,
   "id": "2d7f27d5",
   "metadata": {},
   "outputs": [
    {
     "name": "stdout",
     "output_type": "stream",
     "text": [
      "Hello World\n"
     ]
    }
   ],
   "source": [
    "print('Hello World') #Here we print Hello world"
   ]
  },
  {
   "cell_type": "markdown",
   "id": "0d4221fe",
   "metadata": {},
   "source": [
    "**?? Multiline Comments**"
   ]
  },
  {
   "cell_type": "code",
   "execution_count": 5,
   "id": "79bd00b0",
   "metadata": {},
   "outputs": [],
   "source": [
    "# does not have a syntax for multi line comments.\n",
    "# we have to comment each line individually."
   ]
  },
  {
   "cell_type": "code",
   "execution_count": 6,
   "id": "39631241",
   "metadata": {},
   "outputs": [
    {
     "ename": "NameError",
     "evalue": "name 'multi' is not defined",
     "output_type": "error",
     "traceback": [
      "\u001b[0;31m---------------------------------------------------------------------------\u001b[0m",
      "\u001b[0;31mNameError\u001b[0m                                 Traceback (most recent call last)",
      "Input \u001b[0;32mIn [6]\u001b[0m, in \u001b[0;36m<cell line: 1>\u001b[0;34m()\u001b[0m\n\u001b[0;32m----> 1\u001b[0m \u001b[43mmulti\u001b[49m\n\u001b[1;32m      2\u001b[0m line\n\u001b[1;32m      3\u001b[0m comments\n",
      "\u001b[0;31mNameError\u001b[0m: name 'multi' is not defined"
     ]
    }
   ],
   "source": [
    "multi\n",
    "line\n",
    "comments"
   ]
  },
  {
   "cell_type": "code",
   "execution_count": 7,
   "id": "ec5e059c",
   "metadata": {},
   "outputs": [
    {
     "ename": "NameError",
     "evalue": "name 'line' is not defined",
     "output_type": "error",
     "traceback": [
      "\u001b[0;31m---------------------------------------------------------------------------\u001b[0m",
      "\u001b[0;31mNameError\u001b[0m                                 Traceback (most recent call last)",
      "Input \u001b[0;32mIn [7]\u001b[0m, in \u001b[0;36m<cell line: 2>\u001b[0;34m()\u001b[0m\n\u001b[1;32m      1\u001b[0m \u001b[38;5;66;03m#multi\u001b[39;00m\n\u001b[0;32m----> 2\u001b[0m \u001b[43mline\u001b[49m\n\u001b[1;32m      3\u001b[0m comments\n",
      "\u001b[0;31mNameError\u001b[0m: name 'line' is not defined"
     ]
    }
   ],
   "source": [
    "#multi\n",
    "line\n",
    "comments"
   ]
  },
  {
   "cell_type": "code",
   "execution_count": 8,
   "id": "b7cba2eb",
   "metadata": {},
   "outputs": [
    {
     "ename": "NameError",
     "evalue": "name 'comments' is not defined",
     "output_type": "error",
     "traceback": [
      "\u001b[0;31m---------------------------------------------------------------------------\u001b[0m",
      "\u001b[0;31mNameError\u001b[0m                                 Traceback (most recent call last)",
      "Input \u001b[0;32mIn [8]\u001b[0m, in \u001b[0;36m<cell line: 3>\u001b[0;34m()\u001b[0m\n\u001b[1;32m      1\u001b[0m \u001b[38;5;66;03m#multi\u001b[39;00m\n\u001b[1;32m      2\u001b[0m \u001b[38;5;66;03m#line\u001b[39;00m\n\u001b[0;32m----> 3\u001b[0m \u001b[43mcomments\u001b[49m\n",
      "\u001b[0;31mNameError\u001b[0m: name 'comments' is not defined"
     ]
    }
   ],
   "source": [
    "#multi\n",
    "#line\n",
    "comments"
   ]
  },
  {
   "cell_type": "code",
   "execution_count": 9,
   "id": "f972bb4b",
   "metadata": {},
   "outputs": [],
   "source": [
    "#multi\n",
    "#line\n",
    "#comments"
   ]
  },
  {
   "cell_type": "markdown",
   "id": "277e6c56",
   "metadata": {},
   "source": [
    "!! THANK YOU !!"
   ]
  },
  {
   "cell_type": "code",
   "execution_count": null,
   "id": "c9e6d056",
   "metadata": {},
   "outputs": [],
   "source": []
  }
 ],
 "metadata": {
  "kernelspec": {
   "display_name": "Python 3 (ipykernel)",
   "language": "python",
   "name": "python3"
  },
  "language_info": {
   "codemirror_mode": {
    "name": "ipython",
    "version": 3
   },
   "file_extension": ".py",
   "mimetype": "text/x-python",
   "name": "python",
   "nbconvert_exporter": "python",
   "pygments_lexer": "ipython3",
   "version": "3.9.12"
  },
  "varInspector": {
   "cols": {
    "lenName": 16,
    "lenType": 16,
    "lenVar": 40
   },
   "kernels_config": {
    "python": {
     "delete_cmd_postfix": "",
     "delete_cmd_prefix": "del ",
     "library": "var_list.py",
     "varRefreshCmd": "print(var_dic_list())"
    },
    "r": {
     "delete_cmd_postfix": ") ",
     "delete_cmd_prefix": "rm(",
     "library": "var_list.r",
     "varRefreshCmd": "cat(var_dic_list()) "
    }
   },
   "types_to_exclude": [
    "module",
    "function",
    "builtin_function_or_method",
    "instance",
    "_Feature"
   ],
   "window_display": false
  }
 },
 "nbformat": 4,
 "nbformat_minor": 5
}
